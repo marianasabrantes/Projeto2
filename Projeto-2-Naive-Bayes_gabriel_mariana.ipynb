{
 "cells": [
  {
   "cell_type": "markdown",
   "metadata": {},
   "source": [
    "# Projeto 2 - Classificador Automático de Sentimento\n",
    "\n",
    "Você foi contratado por uma empresa parar analisar como os clientes estão reagindo a um determinado produto no Twitter. A empresa deseja que você crie um programa que irá analisar as mensagens disponíveis e classificará como \"relevante\" ou \"irrelevante\". Com isso ela deseja que mensagens negativas, que denigrem o nome do produto, ou que mereçam destaque, disparem um foco de atenção da área de marketing.<br /><br />\n",
    "Como aluno de Ciência dos Dados, você lembrou do Teorema de Bayes, mais especificamente do Classificador Naive-Bayes, que é largamente utilizado em filtros anti-spam de e-mails. O classificador permite calcular qual a probabilidade de uma mensagem ser relevante dadas as palavras em seu conteúdo.<br /><br />\n",
    "Para realizar o MVP (*minimum viable product*) do projeto, você precisa implementar uma versão do classificador que \"aprende\" o que é relevante com uma base de treinamento e compara a performance dos resultados com uma base de testes.<br /><br />\n",
    "Após validado, o seu protótipo poderá também capturar e classificar automaticamente as mensagens da plataforma.\n",
    "\n",
    "## Informações do Projeto\n",
    "\n",
    "Prazo: 19/Set até às 23:59.<br />\n",
    "Grupo: 2 ou 3 pessoas - grupos com 3 pessoas terá uma rubrica diferenciada.<br /><br />\n",
    "Entregáveis via GitHub: \n",
    "* Arquivo notebook com o código do classificador, seguindo as orientações abaixo.\n",
    "* Arquivo Excel com as bases de treinamento e teste totalmente classificado.\n",
    "\n",
    "**NÃO gravar a key do professor no arquivo**\n",
    "\n",
    "\n",
    "### Entrega Intermediária: Check 1 - APS 2\n",
    "\n",
    "Até o dia 10/Set às 23:59, xlsx deve estar no Github com as seguintes evidências: \n",
    "\n",
    "  * Produto escolhido.\n",
    "  * Arquivo Excel contendo a base de treinamento e a base de testes já classificadas.\n",
    "\n",
    "Sugestão de leitura:<br />\n",
    "https://monkeylearn.com/blog/practical-explanation-naive-bayes-classifier/"
   ]
  },
  {
   "cell_type": "markdown",
   "metadata": {},
   "source": [
    "___\n",
    "\n",
    "## Parte I - Adquirindo a Base de Dados\n",
    "\n",
    "Acessar o notebook **Projeto-2-Planilha** para realizar a coleta dos dados. O grupo deve classificar os dados coletados manualmente."
   ]
  },
  {
   "cell_type": "markdown",
   "metadata": {},
   "source": [
    "___\n",
    "## Parte II - Montando o Classificador Naive-Bayes\n",
    "\n",
    "Com a base de treinamento montada, comece a desenvolver o classificador. Não se esqueça de implementar o Laplace Smoothing (https://en.wikipedia.org/wiki/Laplace_smoothing).\n",
    "\n",
    "Opcionalmente: \n",
    "* Limpar as mensagens removendo os caracteres: enter, :, \", ', (, ), etc. Não remover emojis.<br />\n",
    "* Corrigir separação de espaços entre palavras e/ou emojis.\n",
    "* Propor outras limpezas/transformações que não afetem a qualidade da informação.\n",
    "\n",
    "Escreva o seu código abaixo:"
   ]
  },
  {
   "cell_type": "markdown",
   "metadata": {},
   "source": [
    "### Imports"
   ]
  },
  {
   "cell_type": "code",
   "execution_count": 1,
   "metadata": {},
   "outputs": [],
   "source": [
    "import pandas as pd\n",
    "import numpy as np\n",
    "from mpmath import *"
   ]
  },
  {
   "cell_type": "code",
   "execution_count": 2,
   "metadata": {},
   "outputs": [],
   "source": [
    "tweets_treinamento = pd.read_excel('tweets_Nike.xlsx')"
   ]
  },
  {
   "cell_type": "code",
   "execution_count": 3,
   "metadata": {},
   "outputs": [],
   "source": [
    "tweets_treinamento.Treinamento = tweets_treinamento.Treinamento.str.replace(':', '', regex=False)\n",
    "tweets_treinamento.Treinamento = tweets_treinamento.Treinamento.str.replace('@', '', regex=False)\n",
    "tweets_treinamento.Treinamento = tweets_treinamento.Treinamento.str.replace('*', '', regex=False)\n",
    "tweets_treinamento.Treinamento = tweets_treinamento.Treinamento.str.replace('“', '', regex=False)\n",
    "tweets_treinamento.Treinamento = tweets_treinamento.Treinamento.str.replace('.', '', regex=False)\n",
    "tweets_treinamento.Treinamento = tweets_treinamento.Treinamento.str.replace(')', '', regex=False)\n",
    "tweets_treinamento.Treinamento = tweets_treinamento.Treinamento.str.replace('(', '', regex=False)\n",
    "tweets_treinamento.Treinamento = tweets_treinamento.Treinamento.str.replace('_', '', regex=False)\n",
    "tweets_treinamento.Treinamento = tweets_treinamento.Treinamento.str.replace(';', '', regex=False)\n",
    "tweets_treinamento.Treinamento = tweets_treinamento.Treinamento.str.replace(',', '', regex=False)\n",
    "tweets_treinamento.Treinamento = tweets_treinamento.Treinamento.str.replace('&', '', regex=False)\n",
    "tweets_treinamento.Treinamento = tweets_treinamento.Treinamento.str.replace('/', '', regex=False)\n",
    "tweets_treinamento.Treinamento = tweets_treinamento.Treinamento.str.replace('#', '', regex=False)\n",
    "tweets_treinamento.Treinamento = tweets_treinamento.Treinamento.str.replace('%', '', regex=False)\n",
    "tweets_treinamento.Treinamento = tweets_treinamento.Treinamento.str.replace('$', '', regex=False)\n",
    "tweets_treinamento.Treinamento = tweets_treinamento.Treinamento.str.replace(\"!\", '', regex=False)\n",
    "tweets_treinamento.Treinamento = tweets_treinamento.Treinamento.str.replace(\"?\", '', regex=False)\n",
    "tweets_treinamento.Treinamento = tweets_treinamento.Treinamento.str.replace(\"-\", '', regex=False)\n",
    "tweets_treinamento.Treinamento = tweets_treinamento.Treinamento.str.replace(\"+\", '', regex=False)\n",
    "tweets_treinamento.Treinamento = tweets_treinamento.Treinamento.str.replace(\"=\", '', regex=False)\n",
    "tweets_treinamento.Treinamento = tweets_treinamento.Treinamento.str.replace('rt', '', regex=False)\n",
    "tweets_treinamento.Treinamento = tweets_treinamento.Treinamento.str.replace(\"\\n\", '', regex=False)"
   ]
  },
  {
   "cell_type": "code",
   "execution_count": 4,
   "metadata": {},
   "outputs": [],
   "source": [
    "rel = tweets_treinamento.loc[tweets_treinamento['Classificação']==1]\n",
    "irrel = tweets_treinamento.loc[tweets_treinamento['Classificação']==0]\n",
    "\n",
    "lista_rel = []\n",
    "lista_irrel = []\n",
    "lista_tweets_totais = []\n",
    "\n",
    "lista_rel.append(rel.Treinamento)\n",
    "lista_irrel.append(irrel.Treinamento)\n",
    "lista_tweets_totais.append(tweets_treinamento.Treinamento)"
   ]
  },
  {
   "cell_type": "code",
   "execution_count": 5,
   "metadata": {},
   "outputs": [],
   "source": [
    "td_separado = []\n",
    "for i in lista_tweets_totais[0]:\n",
    "    palavra = i.split(' ')\n",
    "    td_separado.append(palavra)"
   ]
  },
  {
   "cell_type": "code",
   "execution_count": 6,
   "metadata": {},
   "outputs": [],
   "source": [
    "relevantes_separados = []\n",
    "for e in lista_rel[0]:\n",
    "    pr = e.split(' ')\n",
    "    relevantes_separados.append(pr)"
   ]
  },
  {
   "cell_type": "code",
   "execution_count": 7,
   "metadata": {},
   "outputs": [],
   "source": [
    "irrelevantes_separados = []\n",
    "for m in lista_irrel[0]:\n",
    "    pir = m.split(' ')\n",
    "    irrelevantes_separados.append(pir)"
   ]
  },
  {
   "cell_type": "code",
   "execution_count": 8,
   "metadata": {},
   "outputs": [],
   "source": [
    "#dic_rel = {}\n",
    "#cont1 = 0\n",
    "#cont2 = 0\n",
    "#for s in td_separado:\n",
    "#    if s == td_separado[cont1][cont2]:\n",
    " #       dic_rel[s]\n",
    "   #     cont2 += 1\n",
    "#dic_rel"
   ]
  },
  {
   "cell_type": "code",
   "execution_count": 41,
   "metadata": {},
   "outputs": [
    {
     "name": "stdout",
     "output_type": "stream",
     "text": [
      "{'': 0}\n"
     ]
    }
   ],
   "source": [
    "dic_rel = {}\n",
    "def DicionarioContador(relevantes_separados,dic_rel):\n",
    "    for j in range(len(relevantes_separados)-1):\n",
    "        cont2=0\n",
    "        for j in range(len(relevantes_separados)-1):\n",
    "            if relevantes_separados[j] == relevantes_separados[j+1]:\n",
    "                cont2+=1\n",
    "        dic_rel[relevantes_separados[j]] = cont2\n",
    "    return dic_rel\n",
    "print(DicionarioContador(relevantes_separados[0], dic_rel))"
   ]
  },
  {
   "cell_type": "code",
   "execution_count": 42,
   "metadata": {},
   "outputs": [
    {
     "name": "stdout",
     "output_type": "stream",
     "text": [
      "{'maga': 0}\n"
     ]
    }
   ],
   "source": [
    "dic_irrel = {}\n",
    "def DicionarioContador(irrelevantes_separados,dic_rel):\n",
    "    for j in range(len(irrelevantes_separados)-1):\n",
    "        cont2=0\n",
    "        for j in range(len(irrelevantes_separados)-1):\n",
    "            if irrelevantes_separados[j] == irrelevantes_separados[j+1]:\n",
    "                cont2+=1\n",
    "        dic_irrel[irrelevantes_separados[j]] = cont2\n",
    "    return dic_rel\n",
    "print(DicionarioContador(irrelevantes_separados[0], dic_irrel))"
   ]
  },
  {
   "cell_type": "code",
   "execution_count": 50,
   "metadata": {},
   "outputs": [
    {
     "name": "stdout",
     "output_type": "stream",
     "text": [
      "{'': 0}\n",
      "['', '1970somethin', 'colin', 'kaepernick', 'appearing', 'in', 'nike', 'commercials', 'during', 'nfl', 'games', 'httpstcov9ena6okfg']\n"
     ]
    }
   ],
   "source": [
    "dic_total = {}\n",
    "def DicionarioContador(td_separado,dic_total):\n",
    "    for j in range(len(td_separado)-1):\n",
    "        cont2=0\n",
    "        for j in range(len(td_separado)-1):\n",
    "            if td_separado[j] == td_separado[j+1]:\n",
    "                cont2+=1\n",
    "        dic_total[td_separado[j]] = cont2\n",
    "    return dic_rel\n",
    "print(DicionarioContador(td_separado[23], dic_total))"
   ]
  },
  {
   "cell_type": "code",
   "execution_count": null,
   "metadata": {},
   "outputs": [],
   "source": []
  },
  {
   "cell_type": "markdown",
   "metadata": {},
   "source": [
    "___\n",
    "## Verificando a performance\n",
    "\n",
    "Agora você deve testar o seu Classificador com a base de Testes.<br /><br /> \n",
    "\n",
    "Você deve extrair as seguintes medidas:\n",
    "* Porcentagem de positivos falsos (marcados como relevante mas não são relevantes)\n",
    "* Porcentagem de positivos verdadeiros (marcado como relevante e são relevantes)\n",
    "* Porcentagem de negativos verdadeiros (marcado como não relevante e não são relevantes)\n",
    "* Porcentagem de negativos falsos (marcado como não relevante e são relevantes)\n",
    "\n",
    "Obrigatório para grupos de 3 alunos:\n",
    "* Criar categorias intermediárias de relevância baseado na diferença de probabilidades. Exemplo: muito relevante, relevante, neutro, irrelevante e muito irrelevante."
   ]
  },
  {
   "cell_type": "code",
   "execution_count": null,
   "metadata": {
    "scrolled": true
   },
   "outputs": [],
   "source": []
  },
  {
   "cell_type": "markdown",
   "metadata": {},
   "source": [
    "___\n",
    "## Concluindo\n",
    "\n",
    "Escreva aqui a sua conclusão.<br /> \n",
    "Faça um comparativo qualitativo sobre as medidas obtidas.<br />\n",
    "Explique como são tratadas as mensagens com dupla negação e sarcasmo.<br />\n",
    "Proponha um plano de expansão. Por que eles devem continuar financiando o seu projeto?<br />\n",
    "\n",
    "Opcionalmente: \n",
    "* Discorrer por que não posso alimentar minha base de Treinamento automaticamente usando o próprio classificador, aplicado a novos tweets.\n",
    "* Propor diferentes cenários de uso para o classificador Naive-Bayes. Cenários sem intersecção com este projeto.\n",
    "* Sugerir e explicar melhorias reais no classificador com indicações concretas de como implementar (não é preciso codificar, mas indicar como fazer e material de pesquisa sobre o assunto).\n"
   ]
  },
  {
   "cell_type": "code",
   "execution_count": null,
   "metadata": {},
   "outputs": [],
   "source": []
  }
 ],
 "metadata": {
  "kernelspec": {
   "display_name": "Python 3",
   "language": "python",
   "name": "python3"
  },
  "language_info": {
   "codemirror_mode": {
    "name": "ipython",
    "version": 3
   },
   "file_extension": ".py",
   "mimetype": "text/x-python",
   "name": "python",
   "nbconvert_exporter": "python",
   "pygments_lexer": "ipython3",
   "version": "3.6.5"
  }
 },
 "nbformat": 4,
 "nbformat_minor": 2
}
