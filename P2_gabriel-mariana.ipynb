{
 "cells": [
  {
   "cell_type": "markdown",
   "metadata": {},
   "source": [
    "# Projeto 2 - Ciencia dos Dados\n",
    "\n",
    "**Nomes: Gabriel Miras e Mariana Abrantes**\n",
    "\n"
   ]
  },
  {
   "cell_type": "markdown",
   "metadata": {},
   "source": [
    "## Imports\n"
   ]
  },
  {
   "cell_type": "code",
   "execution_count": 10,
   "metadata": {},
   "outputs": [],
   "source": [
    "%matplotlib inline\n",
    "import pandas as pd\n",
    "import numpy as np\n",
    "import math as math\n",
    "import seaborn as sns\n",
    "import itertools\n",
    "from scipy import stats\n",
    "import matplotlib.pyplot as plt"
   ]
  },
  {
   "cell_type": "markdown",
   "metadata": {},
   "source": [
    "## Lendo as tabelas"
   ]
  },
  {
   "cell_type": "code",
   "execution_count": 11,
   "metadata": {
    "scrolled": true
   },
   "outputs": [],
   "source": [
    "leitura = pd.ExcelFile('tweets_Nike.xlsx')\n",
    "at = pd.read_excel(leitura, 'Treinamento')\n",
    "aT = pd.read_excel(leitura, 'Teste')"
   ]
  },
  {
   "cell_type": "markdown",
   "metadata": {},
   "source": [
    "## Limpando a Tabela"
   ]
  },
  {
   "cell_type": "code",
   "execution_count": 12,
   "metadata": {
    "scrolled": true
   },
   "outputs": [],
   "source": [
    "at.Treinamento = at.Treinamento.str.replace(':', '', regex=False)\n",
    "at.Treinamento = at.Treinamento.str.replace('@', '', regex=False)\n",
    "at.Treinamento = at.Treinamento.str.replace('*', '', regex=False)\n",
    "at.Treinamento = at.Treinamento.str.replace('“', '', regex=False)\n",
    "at.Treinamento = at.Treinamento.str.replace('.', '', regex=False)\n",
    "at.Treinamento = at.Treinamento.str.replace(')', '', regex=False)\n",
    "at.Treinamento = at.Treinamento.str.replace('(', '', regex=False)\n",
    "at.Treinamento = at.Treinamento.str.replace('_', '', regex=False)\n",
    "at.Treinamento = at.Treinamento.str.replace(';', '', regex=False)\n",
    "at.Treinamento = at.Treinamento.str.replace(',', '', regex=False)\n",
    "at.Treinamento = at.Treinamento.str.replace('&', '', regex=False)\n",
    "at.Treinamento = at.Treinamento.str.replace('/', '', regex=False)\n",
    "at.Treinamento = at.Treinamento.str.replace('#', '', regex=False)\n",
    "at.Treinamento = at.Treinamento.str.replace('%', '', regex=False)\n",
    "at.Treinamento = at.Treinamento.str.replace('$', '', regex=False)\n",
    "at.Treinamento = at.Treinamento.str.replace(\"!\", '', regex=False)\n",
    "at.Treinamento = at.Treinamento.str.replace(\"?\", '', regex=False)\n",
    "at.Treinamento = at.Treinamento.str.replace(\"-\", '', regex=False)\n",
    "at.Treinamento = at.Treinamento.str.replace(\"+\", '', regex=False)\n",
    "at.Treinamento = at.Treinamento.str.replace(\"=\", '', regex=False)\n",
    "at.Treinamento = at.Treinamento.str.replace('rt', '', regex=False)\n",
    "at.Treinamento = at.Treinamento.str.replace(\"\\n\", '', regex=False)"
   ]
  },
  {
   "cell_type": "code",
   "execution_count": 13,
   "metadata": {},
   "outputs": [],
   "source": [
    "aT.Teste = aT.Teste.str.replace(':', '', regex=False)\n",
    "aT.Teste= aT.Teste.str.replace('@', '', regex=False)\n",
    "aT.Teste = aT.Teste.str.replace('*', '', regex=False)\n",
    "aT.Teste = aT.Teste.str.replace('“', '', regex=False)\n",
    "aT.Teste = aT.Teste.str.replace('.', '', regex=False)\n",
    "aT.Teste = aT.Teste.str.replace(')', '', regex=False)\n",
    "aT.Teste = aT.Teste.str.replace('(', '', regex=False)\n",
    "aT.Teste = aT.Teste.str.replace('_', '', regex=False)\n",
    "aT.Teste = aT.Teste.str.replace(';', '', regex=False)\n",
    "aT.Teste = aT.Teste.str.replace(',', '', regex=False)\n",
    "aT.Teste = aT.Teste.str.replace('&', '', regex=False)\n",
    "aT.Teste = aT.Teste.str.replace('/', '', regex=False)\n",
    "aT.Teste = aT.Teste.str.replace('#', '', regex=False)\n",
    "aT.Teste = aT.Teste.str.replace('%', '', regex=False)\n",
    "aT.Teste = aT.Teste.str.replace('$', '', regex=False)\n",
    "aT.Teste = aT.Teste.str.replace(\"!\", '', regex=False)\n",
    "aT.Teste = aT.Teste.str.replace(\"?\", '', regex=False)\n",
    "aT.Teste = aT.Teste.str.replace(\"-\", '', regex=False)\n",
    "aT.Teste = aT.Teste.str.replace(\"+\", '', regex=False)\n",
    "aT.Teste = aT.Teste.str.replace(\"=\", '', regex=False)\n",
    "aT.Teste = aT.Teste.str.replace('rt', '', regex=False)\n",
    "aT.Teste = aT.Teste.str.replace(\"\\n\", '', regex=False)"
   ]
  },
  {
   "cell_type": "markdown",
   "metadata": {},
   "source": [
    "## Colocando os tweets em uma lista"
   ]
  },
  {
   "cell_type": "code",
   "execution_count": 14,
   "metadata": {},
   "outputs": [],
   "source": [
    "lista = at.groupby('Classificação').apply(lambda grupo: grupo.Treinamento.tolist()).tolist()"
   ]
  },
  {
   "cell_type": "markdown",
   "metadata": {},
   "source": [
    "## Adicionando os tweets relevantes em uma lista"
   ]
  },
  {
   "cell_type": "code",
   "execution_count": null,
   "metadata": {},
   "outputs": [],
   "source": [
    "lista_relevantes = []\n",
    "lista_relevantes.append(lista[1])\n",
    "lista_rel = []\n",
    "for e in lista_relevantes[0]:\n",
    "    strings = e.split(' ')\n",
    "    for i in strings:\n",
    "        if i not in lista_rel:\n",
    "            lista_rel.append(i)\n",
    "    lista_rel.append(strings)"
   ]
  },
  {
   "cell_type": "markdown",
   "metadata": {},
   "source": [
    "## Adicionando os tweets irrelevantes em uma lista"
   ]
  },
  {
   "cell_type": "code",
   "execution_count": null,
   "metadata": {},
   "outputs": [],
   "source": [
    "lista_irrelevantes  = []\n",
    "lista_irrelevantes.append(lista[0])"
   ]
  },
  {
   "cell_type": "markdown",
   "metadata": {},
   "source": [
    "## Probabilidade"
   ]
  },
  {
   "cell_type": "code",
   "execution_count": null,
   "metadata": {},
   "outputs": [],
   "source": [
    "# 0: irrelevante; 1:relevante\n",
    "t0 = at.Classificação[at.Classificação == 0].count()\n",
    "t1 = at.Classificação[at.Classificação == 1].count()\n",
    "\n",
    "T = t0 + t1"
   ]
  },
  {
   "cell_type": "code",
   "execution_count": null,
   "metadata": {},
   "outputs": [],
   "source": [
    "p0 = t0 / T\n",
    "p1 = t1 / T\n",
    "\n",
    "print(\"Probabilidade de Irrelevante: {:.2f}%\".format(p0*100))\n",
    "print(\"Probabilidade de Relevante: {:.2f}%\".format(p1*100))"
   ]
  },
  {
   "cell_type": "code",
   "execution_count": null,
   "metadata": {},
   "outputs": [],
   "source": [
    "prob_palavra = []\n",
    "\n",
    "for tweet in lista:\n",
    "    for palavra in tweet:\n",
    "        if palavra.lower() not in prob_palavra:\n",
    "            prob_palavra.append(palavra.lower())"
   ]
  },
  {
   "cell_type": "code",
   "execution_count": null,
   "metadata": {},
   "outputs": [],
   "source": [
    "def PR(palavra):\n",
    "    evento = 1\n",
    "    total = 0\n",
    "    for tweet in lista_rel:\n",
    "        total += len(tweet)\n",
    "        \n",
    "        for i in tweet:\n",
    "            if i.lower() == palavra.lower():\n",
    "                evento += 1\n",
    "                \n",
    "    return evento/(total + len(prob_palavra))\n",
    "\n",
    "def PI(palavra):\n",
    "    evento = 1\n",
    "    total = 0\n",
    "    for tweet in lista_irrelevantes:\n",
    "        total += len(tweet)\n",
    "        \n",
    "        for i in tweet:\n",
    "            if i.lower() == palavra.lower():\n",
    "                evento += 1\n",
    "    return evento/(total + len(prob_palavra))"
   ]
  },
  {
   "cell_type": "code",
   "execution_count": null,
   "metadata": {},
   "outputs": [],
   "source": [
    "def avaliando(lista):\n",
    "    avaliacao = []\n",
    "\n",
    "    for tweet in lista: \n",
    "        RELEVANTE = []\n",
    "        IRRELEVANTE = []\n",
    "\n",
    "        for palavra in tweet:\n",
    "            RELEVANTE.append(PR(palavra))\n",
    "            IRRELEVANTE.append(PI(palavra))\n",
    "\n",
    "        tweet_relevante = 1\n",
    "        tweet_irrelevante = 1\n",
    "\n",
    "        for i in RELEVANTE:\n",
    "            tweet_relevante *= i\n",
    "\n",
    "        for i in IRRELEVANTE:\n",
    "            tweet_irrelevante *= i\n",
    "\n",
    "        PR_tweet = tweet_irrelevante * p1\n",
    "        PI_tweet = tweet_relevante * p0\n",
    "\n",
    "        if PR_tweet > PI_tweet:\n",
    "            avaliacao.append('Relevante')\n",
    "        else:\n",
    "            avaliacao.append('Irrelevante')\n",
    "    return avaliacao"
   ]
  },
  {
   "cell_type": "code",
   "execution_count": null,
   "metadata": {},
   "outputs": [],
   "source": [
    "lista_teste = []\n",
    "for tweet in aT.Teste:\n",
    "    lista_teste.append(tweet)\n",
    "\n",
    "avaliacao = avaliando(lista_teste)\n",
    "\n",
    "resposta_probabilidade = aT.rename(index=str, columns={'Unnamed: 1':'Relevancia'}).Relevancia"
   ]
  },
  {
   "cell_type": "code",
   "execution_count": null,
   "metadata": {},
   "outputs": [],
   "source": [
    "mt = 0\n",
    "ma = 0\n",
    "ga = 0\n",
    "mi = 0\n",
    "\n",
    "\n",
    "\n",
    "for i in range(len(gabarito)):\n",
    "    if resposta_probabilidade[i] == avaliacao[i] and avaliacao[i] == 'Relevante':\n",
    "        mt += 1\n",
    "    elif resposta_probabilidade[i] == avaliacao[i] and avaliacao[i] == 'Irrelevante':\n",
    "        ma += 1\n",
    "    elif resposta_probabilidade[i] != avaliacao[i] and avaliacao[i] == 'Relevante':\n",
    "        ga += 1\n",
    "    else:\n",
    "        mi += 1\n",
    "\n",
    "mt /= len(avaliacao)\n",
    "ma /= len(avaliacao)\n",
    "ga /= len(avaliacao)\n",
    "mi /= len(avaliacao)\n",
    "\n",
    "print(mt+ma+ga+mi)\n",
    "\n",
    "print(mt)\n",
    "print(ma)\n",
    "print(mi)\n",
    "print(ga)\n",
    "\n",
    "len(avaliacao)"
   ]
  },
  {
   "cell_type": "code",
   "execution_count": null,
   "metadata": {},
   "outputs": [],
   "source": []
  }
 ],
 "metadata": {
  "kernelspec": {
   "display_name": "Python 3",
   "language": "python",
   "name": "python3"
  },
  "language_info": {
   "codemirror_mode": {
    "name": "ipython",
    "version": 3
   },
   "file_extension": ".py",
   "mimetype": "text/x-python",
   "name": "python",
   "nbconvert_exporter": "python",
   "pygments_lexer": "ipython3",
   "version": "3.6.5"
  }
 },
 "nbformat": 4,
 "nbformat_minor": 2
}
