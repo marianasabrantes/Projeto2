{
 "cells": [
  {
   "cell_type": "markdown",
   "metadata": {},
   "source": [
    "# Projeto 2 - Classificador Automático de Sentimento\n",
    "\n",
    "Você foi contratado por uma empresa parar analisar como os clientes estão reagindo a um determinado produto no Twitter. A empresa deseja que você crie um programa que irá analisar as mensagens disponíveis e classificará como \"relevante\" ou \"irrelevante\". Com isso ela deseja que mensagens negativas, que denigrem o nome do produto, ou que mereçam destaque, disparem um foco de atenção da área de marketing.<br /><br />\n",
    "Como aluno de Ciência dos Dados, você lembrou do Teorema de Bayes, mais especificamente do Classificador Naive-Bayes, que é largamente utilizado em filtros anti-spam de e-mails. O classificador permite calcular qual a probabilidade de uma mensagem ser relevante dadas as palavras em seu conteúdo.<br /><br />\n",
    "Para realizar o MVP (*minimum viable product*) do projeto, você precisa implementar uma versão do classificador que \"aprende\" o que é relevante com uma base de treinamento e compara a performance dos resultados com uma base de testes.<br /><br />\n",
    "Após validado, o seu protótipo poderá também capturar e classificar automaticamente as mensagens da plataforma.\n",
    "\n",
    "## Informações do Projeto\n",
    "\n",
    "Prazo: 19/Set até às 23:59.<br />\n",
    "Grupo: 2 ou 3 pessoas - grupos com 3 pessoas terá uma rubrica diferenciada.<br /><br />\n",
    "Entregáveis via GitHub: \n",
    "* Arquivo notebook com o código do classificador, seguindo as orientações abaixo.\n",
    "* Arquivo Excel com as bases de treinamento e teste totalmente classificado.\n",
    "\n",
    "**NÃO gravar a key do professor no arquivo**\n",
    "\n",
    "\n",
    "### Entrega Intermediária: Check 1 - APS 2\n",
    "\n",
    "Até o dia 10/Set às 23:59, xlsx deve estar no Github com as seguintes evidências: \n",
    "\n",
    "  * Produto escolhido.\n",
    "  * Arquivo Excel contendo a base de treinamento e a base de testes já classificadas.\n",
    "\n",
    "Sugestão de leitura:<br />\n",
    "https://monkeylearn.com/blog/practical-explanation-naive-bayes-classifier/"
   ]
  },
  {
   "cell_type": "markdown",
   "metadata": {},
   "source": [
    "___\n",
    "\n",
    "## Parte I - Adquirindo a Base de Dados\n",
    "\n",
    "Acessar o notebook **Projeto-2-Planilha** para realizar a coleta dos dados. O grupo deve classificar os dados coletados manualmente."
   ]
  },
  {
   "cell_type": "markdown",
   "metadata": {},
   "source": [
    "___\n",
    "## Parte II - Montando o Classificador Naive-Bayes\n",
    "\n",
    "Com a base de treinamento montada, comece a desenvolver o classificador. Não se esqueça de implementar o Laplace Smoothing (https://en.wikipedia.org/wiki/Laplace_smoothing).\n",
    "\n",
    "Opcionalmente: \n",
    "* Limpar as mensagens removendo os caracteres: enter, :, \", ', (, ), etc. Não remover emojis.<br />\n",
    "* Corrigir separação de espaços entre palavras e/ou emojis.\n",
    "* Propor outras limpezas/transformações que não afetem a qualidade da informação.\n",
    "\n",
    "Escreva o seu código abaixo:"
   ]
  },
  {
   "cell_type": "markdown",
   "metadata": {},
   "source": [
    "### Imports"
   ]
  },
  {
   "cell_type": "code",
   "execution_count": 320,
   "metadata": {},
   "outputs": [],
   "source": [
    "import pandas as pd\n",
    "import numpy as np\n",
    "from mpmath import *"
   ]
  },
  {
   "cell_type": "code",
   "execution_count": 321,
   "metadata": {},
   "outputs": [],
   "source": [
    "leitura = pd.ExcelFile('tweets_Nike_1.xlsx')"
   ]
  },
  {
   "cell_type": "code",
   "execution_count": 322,
   "metadata": {
    "scrolled": true
   },
   "outputs": [],
   "source": [
    "tweets_treinamento = pd.read_excel(leitura, 'Treinamento')"
   ]
  },
  {
   "cell_type": "code",
   "execution_count": 323,
   "metadata": {},
   "outputs": [],
   "source": [
    "tweets_teste = pd.read_excel(leitura, 'Teste') "
   ]
  },
  {
   "cell_type": "code",
   "execution_count": 324,
   "metadata": {},
   "outputs": [],
   "source": [
    "tweets_treinamento.Treinamento = tweets_treinamento.Treinamento.str.replace(':', '', regex=False)\n",
    "tweets_treinamento.Treinamento = tweets_treinamento.Treinamento.str.replace('@', '', regex=False)\n",
    "tweets_treinamento.Treinamento = tweets_treinamento.Treinamento.str.replace('*', '', regex=False)\n",
    "tweets_treinamento.Treinamento = tweets_treinamento.Treinamento.str.replace('“', '', regex=False)\n",
    "tweets_treinamento.Treinamento = tweets_treinamento.Treinamento.str.replace('.', '', regex=False)\n",
    "tweets_treinamento.Treinamento = tweets_treinamento.Treinamento.str.replace(')', '', regex=False)\n",
    "tweets_treinamento.Treinamento = tweets_treinamento.Treinamento.str.replace('(', '', regex=False)\n",
    "tweets_treinamento.Treinamento = tweets_treinamento.Treinamento.str.replace('_', '', regex=False)\n",
    "tweets_treinamento.Treinamento = tweets_treinamento.Treinamento.str.replace(';', '', regex=False)\n",
    "tweets_treinamento.Treinamento = tweets_treinamento.Treinamento.str.replace(',', '', regex=False)\n",
    "tweets_treinamento.Treinamento = tweets_treinamento.Treinamento.str.replace('&', '', regex=False)\n",
    "tweets_treinamento.Treinamento = tweets_treinamento.Treinamento.str.replace('/', '', regex=False)\n",
    "tweets_treinamento.Treinamento = tweets_treinamento.Treinamento.str.replace('#', '', regex=False)\n",
    "tweets_treinamento.Treinamento = tweets_treinamento.Treinamento.str.replace('%', '', regex=False)\n",
    "tweets_treinamento.Treinamento = tweets_treinamento.Treinamento.str.replace('$', '', regex=False)\n",
    "tweets_treinamento.Treinamento = tweets_treinamento.Treinamento.str.replace(\"!\", '', regex=False)\n",
    "tweets_treinamento.Treinamento = tweets_treinamento.Treinamento.str.replace(\"?\", '', regex=False)\n",
    "tweets_treinamento.Treinamento = tweets_treinamento.Treinamento.str.replace(\"-\", '', regex=False)\n",
    "tweets_treinamento.Treinamento = tweets_treinamento.Treinamento.str.replace(\"+\", '', regex=False)\n",
    "tweets_treinamento.Treinamento = tweets_treinamento.Treinamento.str.replace(\"=\", '', regex=False)\n",
    "tweets_treinamento.Treinamento = tweets_treinamento.Treinamento.str.replace('rt', '', regex=False)\n",
    "tweets_treinamento.Treinamento = tweets_treinamento.Treinamento.str.replace(\"\\n\", '', regex=False)"
   ]
  },
  {
   "cell_type": "code",
   "execution_count": 325,
   "metadata": {},
   "outputs": [],
   "source": [
    "tweets_teste.Teste = tweets_teste.Teste.str.replace(':', '')\n",
    "tweets_teste.Teste = tweets_teste.Teste.str.replace('@', '')\n",
    "tweets_teste.Teste = tweets_teste.Teste.str.replace('*', '')\n",
    "tweets_teste.Teste = tweets_teste.Teste.str.replace('“', '')\n",
    "tweets_teste.Teste = tweets_teste.Teste.str.replace('.', '')\n",
    "tweets_teste.Teste = tweets_teste.Teste.str.replace(')', '')\n",
    "tweets_teste.Teste = tweets_teste.Teste.str.replace('(', '')\n",
    "tweets_teste.Teste = tweets_teste.Teste.str.replace('_', '')\n",
    "tweets_teste.Teste = tweets_teste.Teste.str.replace(';', '')\n",
    "tweets_teste.Teste = tweets_teste.Teste.str.replace(',', '')\n",
    "tweets_teste.Teste = tweets_teste.Teste.str.replace('&', '')\n",
    "tweets_teste.Teste = tweets_teste.Teste.str.replace('/', '')\n",
    "tweets_teste.Teste = tweets_teste.Teste.str.replace('#', '')\n",
    "tweets_teste.Teste = tweets_teste.Teste.str.replace('%', '')\n",
    "tweets_teste.Teste = tweets_teste.Teste.str.replace('$', '')\n",
    "tweets_teste.Teste = tweets_teste.Teste.str.replace(\"!\", '')\n",
    "tweets_teste.Teste = tweets_teste.Teste.str.replace(\"?\", '')\n",
    "tweets_teste.Teste = tweets_teste.Teste.str.replace(\"-\", '')\n",
    "tweets_teste.Teste = tweets_teste.Teste.str.replace(\"+\", '')\n",
    "tweets_teste.Teste = tweets_teste.Teste.str.replace(\"=\", '')\n",
    "tweets_teste.Teste = tweets_teste.Teste.str.replace('rt', '')\n",
    "tweets_teste.Teste = tweets_teste.Teste.str.replace(\"\\n\", '')"
   ]
  },
  {
   "cell_type": "code",
   "execution_count": 326,
   "metadata": {
    "scrolled": true
   },
   "outputs": [],
   "source": [
    "rel_treinamento = tweets_treinamento[(tweets_treinamento['classificacao'] == 1)]\n",
    "irrel_treinamento = tweets_treinamento[(tweets_treinamento['classificacao'] == 0)]\n",
    "tweets_treinamento['Treinamento'] = tweets_treinamento\n",
    "\n",
    "rel_teste = tweets_teste[(tweets_teste['classificacao'] == 1)]\n",
    "irrel_teste = tweets_teste[(tweets_teste['classificacao'] == 0)]\n",
    "tweets_teste['Teste'] = tweets_teste"
   ]
  },
  {
   "cell_type": "code",
   "execution_count": 327,
   "metadata": {},
   "outputs": [],
   "source": [
    "lrel= []\n",
    "lirrel= []\n",
    "ltodos = []\n",
    "\n",
    "for a in tweets_treinamento['Treinamento']:\n",
    "    a = a.lower()\n",
    "    \n",
    "for a in rel_treinamento['Treinamento']:\n",
    "    lrel.append(a.split())\n",
    "    \n",
    "for a in irrel_treinamento['Treinamento']:\n",
    "    lirrel.append(a.split())\n",
    "    \n",
    "for a in tweets_treinamento['Treinamento']:\n",
    "    ltodos.append(a.split())  "
   ]
  },
  {
   "cell_type": "code",
   "execution_count": 328,
   "metadata": {},
   "outputs": [],
   "source": [
    "n_irrel = tweets_treinamento.classificacao[tweets_treinamento.classificacao == 0].count()\n",
    "n_rel = tweets_treinamento.classificacao[tweets_treinamento.classificacao == 1].count()\n",
    "total_n = n_rel + n_irrel\n",
    "\n",
    "prob_irrelevante = n_irrel/ total\n",
    "prob_relevante = n_rel/ total\n",
    "\n",
    "dic_rel = {}\n",
    "dic_irrel = {}\n",
    "dic_tweet = {}\n",
    "\n",
    "Ln_rel = []\n",
    "Ln_irrel = []\n",
    "TD = []\n",
    "\n",
    "for f in lrel:\n",
    "    for p in f:\n",
    "        Ln_rel.append(p)\n",
    "        dic_rel[p] = Ln_rel.count(p)\n",
    "\n",
    "for f in lirrel:\n",
    "    for p in f:\n",
    "        Ln_irrel.append(p)\n",
    "        dic_irrel[p] = Ln_irrel.count(p)\n",
    "\n",
    "for f in ltodos:\n",
    "    for p in f:\n",
    "        TD.append(p)\n",
    "        dic_tweet[p] = TD.count(p)"
   ]
  },
  {
   "cell_type": "code",
   "execution_count": 329,
   "metadata": {},
   "outputs": [],
   "source": [
    "P_relevante = len(rel)/len(tweets_treinamento)\n",
    "P_irrelevante = len(irrel)/len(tweets_treinamento)"
   ]
  },
  {
   "cell_type": "code",
   "execution_count": 330,
   "metadata": {},
   "outputs": [
    {
     "name": "stdout",
     "output_type": "stream",
     "text": [
      "5380\n",
      "378\n",
      "5002\n"
     ]
    }
   ],
   "source": [
    "print(len(TD))\n",
    "print(len(Ln_rel))\n",
    "print(len(Ln_irrel))"
   ]
  },
  {
   "cell_type": "code",
   "execution_count": 331,
   "metadata": {
    "scrolled": true
   },
   "outputs": [
    {
     "name": "stdout",
     "output_type": "stream",
     "text": [
      "1593\n",
      "5380\n"
     ]
    }
   ],
   "source": [
    "new= list(set(TD))\n",
    "print(len(new))\n",
    "print(len(TD))"
   ]
  },
  {
   "cell_type": "code",
   "execution_count": 332,
   "metadata": {},
   "outputs": [],
   "source": [
    "p_r = {}\n",
    "p_ir = {}\n",
    "\n",
    "for pl in Ln_rel:\n",
    "    p_r[pl] = (dic_rel[pl] + 1)/ (len(new) + len(Ln_rel))\n",
    "\n",
    "for pl in Ln_irrel:\n",
    "    p_ir[pl] = (dic_irrel[pl] + 1)/ (len(new) + len(Ln_irrel))\n"
   ]
  },
  {
   "cell_type": "code",
   "execution_count": 333,
   "metadata": {},
   "outputs": [],
   "source": [
    "r = len(Ln_rel)/len(TD)\n",
    "ir = len(Ln_irrel)/len(TD)"
   ]
  },
  {
   "cell_type": "code",
   "execution_count": 334,
   "metadata": {},
   "outputs": [
    {
     "name": "stdout",
     "output_type": "stream",
     "text": [
      "1.2827723753331317\n"
     ]
    }
   ],
   "source": [
    "soma_rel = sum(p_r.values())\n",
    "soma_irrel = sum(p_ir.values())\n",
    "\n",
    "print(soma_rel + soma_irrel)"
   ]
  },
  {
   "cell_type": "code",
   "execution_count": 335,
   "metadata": {},
   "outputs": [],
   "source": [
    "classific = []\n",
    "for frase in tweets_teste['Teste']:\n",
    "    palavra_frase2 = []\n",
    "    palavra_frase2.append(frase.split())\n",
    "    p_fraseir = 1\n",
    "    p_pal_ir = 0\n",
    "    p_fraser = 1\n",
    "    p_pal_r = 0\n",
    "    for a in palavra_frase2:\n",
    "        for word in a:\n",
    "            palavra_frase = []\n",
    "            palavra_frase.append(word)                          \n",
    "            for palavra in palavra_frase:\n",
    "                p_fraseir = 1\n",
    "                p_pal_ir = 0\n",
    "                p_fraser = 1\n",
    "                p_pal_r = 0\n",
    "                #print(palavra)\n",
    "                if palavra in p_r:\n",
    "                    p_pal_r = p_r[palavra]\n",
    "                    p_fraser *= p_pal_r\n",
    "                elif palavra in p_ir:\n",
    "                    p_pal_ir = p_ir[palavra]\n",
    "                    p_fraseir *= p_pal_ir\n",
    "                else:\n",
    "                    p_pal_ir = 1/(len(Ln_irrel) + len(new))\n",
    "                    p_pal_r = 1/(len(Ln_rel) + len(new))\n",
    "                    p_fraser *= p_pal_r\n",
    "                    p_fraseir *= p_pal_ir\n",
    "    if p_fraser > p_fraseir:\n",
    "        classific.append(1)\n",
    "    else:\n",
    "        classific.append(0)\n",
    "        \n",
    "tweets_teste['Chute'] = classific\n",
    "\n",
    "vp = 0\n",
    "vn = 0\n",
    "fp = 0\n",
    "fn = 0\n",
    "\n",
    "for i in range(len(tweets_teste)):\n",
    "    if tweets_teste['Chute'][i] == 1 and tweets_teste['classificacao'][i] == 1:\n",
    "        vp += 1\n",
    "    elif tweets_teste['Chute'][i] == 0 and tweets_teste['classificacao'][i] == 1:\n",
    "        fn += 1\n",
    "    elif tweets_teste['Chute'][i] == 0 and tweets_teste['classificacao'][i] == 0:\n",
    "        vn += 1\n",
    "    else:\n",
    "        fp += 1"
   ]
  },
  {
   "cell_type": "markdown",
   "metadata": {},
   "source": [
    "___\n",
    "## Verificando a performance\n",
    "\n",
    "Agora você deve testar o seu Classificador com a base de Testes.<br /><br /> \n",
    "\n",
    "Você deve extrair as seguintes medidas:\n",
    "* Porcentagem de positivos falsos (marcados como relevante mas não são relevantes)\n",
    "* Porcentagem de positivos verdadeiros (marcado como relevante e são relevantes)\n",
    "* Porcentagem de negativos verdadeiros (marcado como não relevante e não são relevantes)\n",
    "* Porcentagem de negativos falsos (marcado como não relevante e são relevantes)\n",
    "\n",
    "Obrigatório para grupos de 3 alunos:\n",
    "* Criar categorias intermediárias de relevância baseado na diferença de probabilidades. Exemplo: muito relevante, relevante, neutro, irrelevante e muito irrelevante."
   ]
  },
  {
   "cell_type": "code",
   "execution_count": 336,
   "metadata": {
    "scrolled": true
   },
   "outputs": [
    {
     "name": "stdout",
     "output_type": "stream",
     "text": [
      "A porcentagem de positivos verdadeiros é: 7.0 %\n",
      "A porcentagem de negativos verdadeiros é: 11.0 %\n",
      "A porcentagem de positivos falsos é: 77.5 %\n",
      "A porcentagem de negativos falsos é: 4.5 %\n"
     ]
    }
   ],
   "source": [
    "print('A porcentagem de positivos verdadeiros é:', vp/2,'%')\n",
    "print('A porcentagem de negativos verdadeiros é:', vn/2,'%')\n",
    "print('A porcentagem de positivos falsos é:', fp/2,'%')\n",
    "print('A porcentagem de negativos falsos é:', fn/2,'%')"
   ]
  },
  {
   "cell_type": "markdown",
   "metadata": {},
   "source": [
    "___\n",
    "## Concluindo\n",
    "\n",
    "Escreva aqui a sua conclusão.<br /> \n",
    "Faça um comparativo qualitativo sobre as medidas obtidas.<br />\n",
    "Explique como são tratadas as mensagens com dupla negação e sarcasmo.<br />\n",
    "Proponha um plano de expansão. Por que eles devem continuar financiando o seu projeto?<br />\n",
    "\n",
    "Opcionalmente: \n",
    "* Discorrer por que não posso alimentar minha base de Treinamento automaticamente usando o próprio classificador, aplicado a novos tweets.\n",
    "* Propor diferentes cenários de uso para o classificador Naive-Bayes. Cenários sem intersecção com este projeto.\n",
    "* Sugerir e explicar melhorias reais no classificador com indicações concretas de como implementar (não é preciso codificar, mas indicar como fazer e material de pesquisa sobre o assunto).\n"
   ]
  },
  {
   "cell_type": "code",
   "execution_count": null,
   "metadata": {},
   "outputs": [],
   "source": []
  },
  {
   "cell_type": "code",
   "execution_count": null,
   "metadata": {},
   "outputs": [],
   "source": []
  },
  {
   "cell_type": "code",
   "execution_count": null,
   "metadata": {},
   "outputs": [],
   "source": []
  }
 ],
 "metadata": {
  "kernelspec": {
   "display_name": "Python 3",
   "language": "python",
   "name": "python3"
  },
  "language_info": {
   "codemirror_mode": {
    "name": "ipython",
    "version": 3
   },
   "file_extension": ".py",
   "mimetype": "text/x-python",
   "name": "python",
   "nbconvert_exporter": "python",
   "pygments_lexer": "ipython3",
   "version": "3.6.5"
  }
 },
 "nbformat": 4,
 "nbformat_minor": 2
}
