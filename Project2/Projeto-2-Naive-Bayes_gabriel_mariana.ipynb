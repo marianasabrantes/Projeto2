{
 "cells": [
  {
   "cell_type": "markdown",
   "metadata": {},
   "source": [
    "# Projeto 2 - Classificador Automático de Sentimento\n",
    "\n",
    "Você foi contratado por uma empresa parar analisar como os clientes estão reagindo a um determinado produto no Twitter. A empresa deseja que você crie um programa que irá analisar as mensagens disponíveis e classificará como \"relevante\" ou \"irrelevante\". Com isso ela deseja que mensagens negativas, que denigrem o nome do produto, ou que mereçam destaque, disparem um foco de atenção da área de marketing.<br /><br />\n",
    "Como aluno de Ciência dos Dados, você lembrou do Teorema de Bayes, mais especificamente do Classificador Naive-Bayes, que é largamente utilizado em filtros anti-spam de e-mails. O classificador permite calcular qual a probabilidade de uma mensagem ser relevante dadas as palavras em seu conteúdo.<br /><br />\n",
    "Para realizar o MVP (*minimum viable product*) do projeto, você precisa implementar uma versão do classificador que \"aprende\" o que é relevante com uma base de treinamento e compara a performance dos resultados com uma base de testes.<br /><br />\n",
    "Após validado, o seu protótipo poderá também capturar e classificar automaticamente as mensagens da plataforma.\n",
    "\n",
    "## Informações do Projeto\n",
    "\n",
    "Prazo: 19/Set até às 23:59.<br />\n",
    "Grupo: 2 ou 3 pessoas - grupos com 3 pessoas terá uma rubrica diferenciada.<br /><br />\n",
    "Entregáveis via GitHub: \n",
    "* Arquivo notebook com o código do classificador, seguindo as orientações abaixo.\n",
    "* Arquivo Excel com as bases de treinamento e teste totalmente classificado.\n",
    "\n",
    "**NÃO gravar a key do professor no arquivo**\n",
    "\n",
    "\n",
    "### Entrega Intermediária: Check 1 - APS 2\n",
    "\n",
    "Até o dia 10/Set às 23:59, xlsx deve estar no Github com as seguintes evidências: \n",
    "\n",
    "  * Produto escolhido.\n",
    "  * Arquivo Excel contendo a base de treinamento e a base de testes já classificadas.\n",
    "\n",
    "Sugestão de leitura:<br />\n",
    "https://monkeylearn.com/blog/practical-explanation-naive-bayes-classifier/"
   ]
  },
  {
   "cell_type": "markdown",
   "metadata": {},
   "source": [
    "___\n",
    "\n",
    "## Parte I - Adquirindo a Base de Dados\n",
    "\n",
    "Acessar o notebook **Projeto-2-Planilha** para realizar a coleta dos dados. O grupo deve classificar os dados coletados manualmente."
   ]
  },
  {
   "cell_type": "markdown",
   "metadata": {},
   "source": [
    "___\n",
    "## Parte II - Montando o Classificador Naive-Bayes\n",
    "\n",
    "Com a base de treinamento montada, comece a desenvolver o classificador. Não se esqueça de implementar o Laplace Smoothing (https://en.wikipedia.org/wiki/Laplace_smoothing).\n",
    "\n",
    "Opcionalmente: \n",
    "* Limpar as mensagens removendo os caracteres: enter, :, \", ', (, ), etc. Não remover emojis.<br />\n",
    "* Corrigir separação de espaços entre palavras e/ou emojis.\n",
    "* Propor outras limpezas/transformações que não afetem a qualidade da informação.\n",
    "\n",
    "Escreva o seu código abaixo:"
   ]
  },
  {
   "cell_type": "markdown",
   "metadata": {},
   "source": [
    "### Imports"
   ]
  },
  {
   "cell_type": "code",
   "execution_count": 1,
   "metadata": {},
   "outputs": [],
   "source": [
    "%matplotlib inline\n",
    "import pandas as pd\n",
    "import numpy as np\n",
    "import math as math\n",
    "import seaborn as sns\n",
    "import itertools\n",
    "from scipy import stats\n",
    "import matplotlib.pyplot as plt"
   ]
  },
  {
   "cell_type": "markdown",
   "metadata": {},
   "source": [
    "### Lendo as tabelas"
   ]
  },
  {
   "cell_type": "code",
   "execution_count": 2,
   "metadata": {},
   "outputs": [],
   "source": [
    "leitura = pd.ExcelFile('tweets_Nike.xlsx')\n",
    "at = pd.read_excel(leitura, 'Treinamento')\n",
    "aT = pd.read_excel(leitura, 'Teste')"
   ]
  },
  {
   "cell_type": "markdown",
   "metadata": {},
   "source": [
    "### Lipando a tabela Treinamento"
   ]
  },
  {
   "cell_type": "markdown",
   "metadata": {},
   "source": [
    "Para poder calcular a probabilidade dos tweets serem relevantes ou irrelevantes, é necessário limpar os tweets, para assim ter uma melhor leitura. Nesta célula, estamos limpando os tweets da tabela Treinamento."
   ]
  },
  {
   "cell_type": "code",
   "execution_count": 3,
   "metadata": {},
   "outputs": [],
   "source": [
    "at.Treinamento = at.Treinamento.str.replace(':', '', regex=False)\n",
    "at.Treinamento = at.Treinamento.str.replace('@', '', regex=False)\n",
    "at.Treinamento = at.Treinamento.str.replace('*', '', regex=False)\n",
    "at.Treinamento = at.Treinamento.str.replace('“', '', regex=False)\n",
    "at.Treinamento = at.Treinamento.str.replace('.', '', regex=False)\n",
    "at.Treinamento = at.Treinamento.str.replace(')', '', regex=False)\n",
    "at.Treinamento = at.Treinamento.str.replace('(', '', regex=False)\n",
    "at.Treinamento = at.Treinamento.str.replace('_', '', regex=False)\n",
    "at.Treinamento = at.Treinamento.str.replace(';', '', regex=False)\n",
    "at.Treinamento = at.Treinamento.str.replace(',', '', regex=False)\n",
    "at.Treinamento = at.Treinamento.str.replace('&', '', regex=False)\n",
    "at.Treinamento = at.Treinamento.str.replace('/', '', regex=False)\n",
    "at.Treinamento = at.Treinamento.str.replace('#', '', regex=False)\n",
    "at.Treinamento = at.Treinamento.str.replace('%', '', regex=False)\n",
    "at.Treinamento = at.Treinamento.str.replace('$', '', regex=False)\n",
    "at.Treinamento = at.Treinamento.str.replace(\"!\", '', regex=False)\n",
    "at.Treinamento = at.Treinamento.str.replace(\"?\", '', regex=False)\n",
    "at.Treinamento = at.Treinamento.str.replace(\"-\", '', regex=False)\n",
    "at.Treinamento = at.Treinamento.str.replace(\"+\", '', regex=False)\n",
    "at.Treinamento = at.Treinamento.str.replace(\"=\", '', regex=False)\n",
    "at.Treinamento = at.Treinamento.str.replace('rt', '', regex=False)\n",
    "at.Treinamento = at.Treinamento.str.replace(\"\\n\", '', regex=False)"
   ]
  },
  {
   "cell_type": "markdown",
   "metadata": {},
   "source": [
    "### Limpando a tabela Teste"
   ]
  },
  {
   "cell_type": "markdown",
   "metadata": {},
   "source": [
    "Também faremos uma limpeza nos tweets da tabela Teste, da mesma forma que fizemos com os tweets da tabela Treinamento."
   ]
  },
  {
   "cell_type": "code",
   "execution_count": 4,
   "metadata": {},
   "outputs": [],
   "source": [
    "aT.Teste = aT.Teste.str.replace(':', '', regex=False)\n",
    "aT.Teste= aT.Teste.str.replace('@', '', regex=False)\n",
    "aT.Teste = aT.Teste.str.replace('*', '', regex=False)\n",
    "aT.Teste = aT.Teste.str.replace('“', '', regex=False)\n",
    "aT.Teste = aT.Teste.str.replace('.', '', regex=False)\n",
    "aT.Teste = aT.Teste.str.replace(')', '', regex=False)\n",
    "aT.Teste = aT.Teste.str.replace('(', '', regex=False)\n",
    "aT.Teste = aT.Teste.str.replace('_', '', regex=False)\n",
    "aT.Teste = aT.Teste.str.replace(';', '', regex=False)\n",
    "aT.Teste = aT.Teste.str.replace(',', '', regex=False)\n",
    "aT.Teste = aT.Teste.str.replace('&', '', regex=False)\n",
    "aT.Teste = aT.Teste.str.replace('/', '', regex=False)\n",
    "aT.Teste = aT.Teste.str.replace('#', '', regex=False)\n",
    "aT.Teste = aT.Teste.str.replace('%', '', regex=False)\n",
    "aT.Teste = aT.Teste.str.replace('$', '', regex=False)\n",
    "aT.Teste = aT.Teste.str.replace(\"!\", '', regex=False)\n",
    "aT.Teste = aT.Teste.str.replace(\"?\", '', regex=False)\n",
    "aT.Teste = aT.Teste.str.replace(\"-\", '', regex=False)\n",
    "aT.Teste = aT.Teste.str.replace(\"+\", '', regex=False)\n",
    "aT.Teste = aT.Teste.str.replace(\"=\", '', regex=False)\n",
    "aT.Teste = aT.Teste.str.replace('rt', '', regex=False)\n",
    "aT.Teste = aT.Teste.str.replace(\"\\n\", '', regex=False)"
   ]
  },
  {
   "cell_type": "markdown",
   "metadata": {},
   "source": [
    "### Adicionando os tweets Treinamento em uma lista"
   ]
  },
  {
   "cell_type": "markdown",
   "metadata": {},
   "source": [
    "Depois de limpar os tweets da tabela Treinamento, iremos adicioná-los em uma lista."
   ]
  },
  {
   "cell_type": "code",
   "execution_count": 5,
   "metadata": {},
   "outputs": [],
   "source": [
    "lista = at.groupby('Classificação').apply(lambda grupo: grupo.Treinamento.tolist()).tolist()"
   ]
  },
  {
   "cell_type": "markdown",
   "metadata": {},
   "source": [
    "### Colocando os tweets da tabela Treinamento relevantes em uma lista"
   ]
  },
  {
   "cell_type": "markdown",
   "metadata": {},
   "source": [
    "Os tweets da tabela Treinamento foram separados em relevantes e irrelevantes, dessa forma iremos colocar os tweets relevantes em uma lista, além disso iremos separar os tweets em cada palavra, para poder por fim criar um programa que faz a leitura de cada palavra."
   ]
  },
  {
   "cell_type": "code",
   "execution_count": 6,
   "metadata": {},
   "outputs": [],
   "source": [
    "lista_relevantes = []\n",
    "lista_relevantes.append(lista[1])\n",
    "lista_rel = []\n",
    "for e in lista_relevantes[0]:\n",
    "    strings = e.split(' ')\n",
    "    for i in strings:\n",
    "        if i not in lista_rel:\n",
    "            lista_rel.append(i)\n",
    "    lista_rel.append(strings)"
   ]
  },
  {
   "cell_type": "markdown",
   "metadata": {},
   "source": [
    "### Adicionando os tweets da tabela Treianemento irrelevantes em uma lista"
   ]
  },
  {
   "cell_type": "markdown",
   "metadata": {},
   "source": [
    "Os tweets irrelevantes agora, serão colocados em uma lista."
   ]
  },
  {
   "cell_type": "code",
   "execution_count": 7,
   "metadata": {},
   "outputs": [],
   "source": [
    "lista_irrelevantes  = []\n",
    "lista_irrelevantes.append(lista[0])"
   ]
  },
  {
   "cell_type": "markdown",
   "metadata": {},
   "source": [
    "### Calculando a probabilidade"
   ]
  },
  {
   "cell_type": "markdown",
   "metadata": {},
   "source": [
    "Iremos separar o total relevantes (classificados como 1) e os irrelevantes (classificados como 0)."
   ]
  },
  {
   "cell_type": "code",
   "execution_count": 8,
   "metadata": {},
   "outputs": [
    {
     "name": "stdout",
     "output_type": "stream",
     "text": [
      "Probabilidade de Irrelevante: 91.33%\n",
      "Probabilidade de Relevante: 8.67%\n"
     ]
    }
   ],
   "source": [
    "t0 = at.Classificação[at.Classificação == 0].count()\n",
    "t1 = at.Classificação[at.Classificação == 1].count()\n",
    "\n",
    "T = t0 + t1\n",
    "\n",
    "p0 = t0 / T\n",
    "p1 = t1 / T\n",
    "\n",
    "print(\"Probabilidade de Irrelevante: {:.2f}%\".format(p0*100))\n",
    "print(\"Probabilidade de Relevante: {:.2f}%\".format(p1*100))"
   ]
  },
  {
   "cell_type": "markdown",
   "metadata": {},
   "source": [
    "Iremos criar um programa que percorrerá a lista total dos tweets limpos e depois cada palavra de cada tweet, para tirar o CAPSLOCK de todas as palavras, para ter uma melhor leitura."
   ]
  },
  {
   "cell_type": "code",
   "execution_count": 9,
   "metadata": {},
   "outputs": [],
   "source": [
    "prob_palavra = []\n",
    "\n",
    "for tweet in lista:\n",
    "    for palavra in tweet:\n",
    "        if palavra.lower() not in prob_palavra:\n",
    "            prob_palavra.append(palavra.lower())"
   ]
  },
  {
   "cell_type": "markdown",
   "metadata": {},
   "source": [
    "Criaremos uma função que percorrerá a lista dos tweets relevantes e por fim irá calcular a probabilidade dos tweets relevantes. O mesmo faremos com os tweets irrelevantes, para descobrir a probabilidade.\n"
   ]
  },
  {
   "cell_type": "code",
   "execution_count": 10,
   "metadata": {},
   "outputs": [],
   "source": [
    "def PR(palavra):\n",
    "    evento = 1\n",
    "    total = 0\n",
    "    for tweet in lista_rel:\n",
    "        total += len(tweet)\n",
    "        \n",
    "        for i in tweet:\n",
    "            if i.lower() == palavra.lower():\n",
    "                evento += 1\n",
    "                \n",
    "    return evento/(total + len(prob_palavra))\n",
    "\n",
    "def PI(palavra):\n",
    "    evento = 1\n",
    "    total = 0\n",
    "    for tweet in lista_irrelevantes:\n",
    "        total += len(tweet)\n",
    "        \n",
    "        for i in tweet:\n",
    "            if i.lower() == palavra.lower():\n",
    "                evento += 1\n",
    "    return evento/(total + len(prob_palavra))"
   ]
  },
  {
   "cell_type": "code",
   "execution_count": 11,
   "metadata": {},
   "outputs": [],
   "source": [
    "def avaliando(lista):\n",
    "    avaliacao = []\n",
    "\n",
    "    for tweet in lista: \n",
    "        RELEVANTE = []\n",
    "        IRRELEVANTE = []\n",
    "\n",
    "        for palavra in tweet:\n",
    "            RELEVANTE.append(PR(palavra))\n",
    "            IRRELEVANTE.append(PI(palavra))\n",
    "\n",
    "        tweet_relevante = 1\n",
    "        tweet_irrelevante = 1\n",
    "\n",
    "        for i in RELEVANTE:\n",
    "            tweet_relevante *= i\n",
    "\n",
    "        for i in IRRELEVANTE:\n",
    "            tweet_irrelevante *= i\n",
    "\n",
    "        PR_tweet = tweet_irrelevante * p1\n",
    "        PI_tweet = tweet_relevante * p0\n",
    "\n",
    "        if PR_tweet > PI_tweet:\n",
    "            avaliacao.append('Relevante')\n",
    "        else:\n",
    "            avaliacao.append('Irrelevante')\n",
    "    return avaliacao"
   ]
  },
  {
   "cell_type": "code",
   "execution_count": 18,
   "metadata": {},
   "outputs": [],
   "source": [
    "lista_teste = []\n",
    "for tweet in aT.Teste:\n",
    "    lista_teste.append(tweet)\n",
    "\n",
    "avaliacao = avaliando(lista_teste)\n",
    "\n",
    "resposta_probabilidade = aT.rename(index=str, columns={'Unnamed: 1':'Relevancia'}).Relevancia"
   ]
  },
  {
   "cell_type": "code",
   "execution_count": 16,
   "metadata": {},
   "outputs": [
    {
     "name": "stdout",
     "output_type": "stream",
     "text": [
      "1.0\n",
      "0.0\n",
      "0.0\n",
      "1.0\n",
      "0.0\n"
     ]
    },
    {
     "data": {
      "text/plain": [
       "200"
      ]
     },
     "execution_count": 16,
     "metadata": {},
     "output_type": "execute_result"
    }
   ],
   "source": [
    "mt = 0\n",
    "ma = 0\n",
    "ga = 0\n",
    "mi = 0\n",
    "\n",
    "\n",
    "\n",
    "for i in range(len(resposta_probabilidade)):\n",
    "    if resposta_probabilidade[i] == avaliacao[i] and avaliacao[i] == 'Relevante':\n",
    "        mt += 1\n",
    "    elif resposta_probabilidade[i] == avaliacao[i] and avaliacao[i] == 'Irrelevante':\n",
    "        ma += 1\n",
    "    elif resposta_probabilidade[i] != avaliacao[i] and avaliacao[i] == 'Relevante':\n",
    "        ga += 1\n",
    "    else:\n",
    "        mi += 1\n",
    "\n",
    "mt /= len(avaliacao)\n",
    "ma /= len(avaliacao)\n",
    "ga /= len(avaliacao)\n",
    "mi /= len(avaliacao)\n",
    "\n",
    "print(mt+ma+ga+mi)\n",
    "\n",
    "print(mt)\n",
    "print(ma)\n",
    "print(mi)\n",
    "print(ga)\n",
    "\n",
    "len(avaliacao)"
   ]
  },
  {
   "cell_type": "code",
   "execution_count": null,
   "metadata": {},
   "outputs": [],
   "source": []
  },
  {
   "cell_type": "markdown",
   "metadata": {},
   "source": [
    "___\n",
    "## Verificando a performance\n",
    "\n",
    "Agora você deve testar o seu Classificador com a base de Testes.<br /><br /> \n",
    "\n",
    "Você deve extrair as seguintes medidas:\n",
    "* Porcentagem de positivos falsos (marcados como relevante mas não são relevantes)\n",
    "* Porcentagem de positivos verdadeiros (marcado como relevante e são relevantes)\n",
    "* Porcentagem de negativos verdadeiros (marcado como não relevante e não são relevantes)\n",
    "* Porcentagem de negativos falsos (marcado como não relevante e são relevantes)\n",
    "\n",
    "Obrigatório para grupos de 3 alunos:\n",
    "* Criar categorias intermediárias de relevância baseado na diferença de probabilidades. Exemplo: muito relevante, relevante, neutro, irrelevante e muito irrelevante."
   ]
  },
  {
   "cell_type": "code",
   "execution_count": null,
   "metadata": {
    "scrolled": true
   },
   "outputs": [],
   "source": []
  },
  {
   "cell_type": "markdown",
   "metadata": {},
   "source": [
    "___\n",
    "## Concluindo\n",
    "\n",
    "Escreva aqui a sua conclusão.<br /> \n",
    "Faça um comparativo qualitativo sobre as medidas obtidas.<br />\n",
    "Explique como são tratadas as mensagens com dupla negação e sarcasmo.<br />\n",
    "Proponha um plano de expansão. Por que eles devem continuar financiando o seu projeto?<br />\n",
    "\n",
    "Opcionalmente: \n",
    "* Discorrer por que não posso alimentar minha base de Treinamento automaticamente usando o próprio classificador, aplicado a novos tweets.\n",
    "* Propor diferentes cenários de uso para o classificador Naive-Bayes. Cenários sem intersecção com este projeto.\n",
    "* Sugerir e explicar melhorias reais no classificador com indicações concretas de como implementar (não é preciso codificar, mas indicar como fazer e material de pesquisa sobre o assunto).\n"
   ]
  },
  {
   "cell_type": "code",
   "execution_count": null,
   "metadata": {},
   "outputs": [],
   "source": []
  }
 ],
 "metadata": {
  "kernelspec": {
   "display_name": "Python 3",
   "language": "python",
   "name": "python3"
  },
  "language_info": {
   "codemirror_mode": {
    "name": "ipython",
    "version": 3
   },
   "file_extension": ".py",
   "mimetype": "text/x-python",
   "name": "python",
   "nbconvert_exporter": "python",
   "pygments_lexer": "ipython3",
   "version": "3.6.5"
  }
 },
 "nbformat": 4,
 "nbformat_minor": 2
}
